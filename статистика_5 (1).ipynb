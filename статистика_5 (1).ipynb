{
  "nbformat": 4,
  "nbformat_minor": 0,
  "metadata": {
    "colab": {
      "provenance": []
    },
    "kernelspec": {
      "name": "python3",
      "display_name": "Python 3"
    },
    "language_info": {
      "name": "python"
    }
  },
  "cells": [
    {
      "cell_type": "markdown",
      "source": [
        "Импорт библиотек"
      ],
      "metadata": {
        "id": "yDPg0ddrXRVb"
      }
    },
    {
      "cell_type": "code",
      "execution_count": null,
      "metadata": {
        "id": "f40AsW2jSI1L"
      },
      "outputs": [],
      "source": [
        "import matplotlib.pyplot as plt\n",
        "import seaborn as sns\n",
        "import pandas as pd\n",
        "import numpy as np\n",
        "import scipy\n",
        "import math"
      ]
    },
    {
      "cell_type": "markdown",
      "source": [
        "Создание таблицы"
      ],
      "metadata": {
        "id": "JW9Id3ujXU5B"
      }
    },
    {
      "cell_type": "code",
      "source": [
        "dct={\"x\":[(0,10),(10,20),(20,30),(30,40),(40,50),\"Итого\"],(0,250):[20,10,0,0,0,30],(250,500):[10,22,20,10,0,62],(500,750):[0,18,57,21,0,96],(750,1000):[0,0,23,30,12,65],(1000,1250):[0,0,0,19,28,47],\"Итого\":[30,50,100,80,40,300]}\n",
        "data=pd.DataFrame(dct)"
      ],
      "metadata": {
        "id": "ktHX6PUsSYwQ"
      },
      "execution_count": null,
      "outputs": []
    },
    {
      "cell_type": "markdown",
      "source": [
        "показ получившейся таблицы"
      ],
      "metadata": {
        "id": "KYBO5rMCXX4L"
      }
    },
    {
      "cell_type": "code",
      "source": [
        "data\n"
      ],
      "metadata": {
        "colab": {
          "base_uri": "https://localhost:8080/",
          "height": 237
        },
        "id": "Ve5-YrSvW2zL",
        "outputId": "bd81252c-36dc-4221-9d53-f40030fbd93e"
      },
      "execution_count": null,
      "outputs": [
        {
          "output_type": "execute_result",
          "data": {
            "text/plain": [
              "          x  (0, 250)  (250, 500)  (500, 750)  (750, 1000)  (1000, 1250)  \\\n",
              "0   (0, 10)        20          10           0            0             0   \n",
              "1  (10, 20)        10          22          18            0             0   \n",
              "2  (20, 30)         0          20          57           23             0   \n",
              "3  (30, 40)         0          10          21           30            19   \n",
              "4  (40, 50)         0           0           0           12            28   \n",
              "5     Итого        30          62          96           65            47   \n",
              "\n",
              "   Итого  \n",
              "0     30  \n",
              "1     50  \n",
              "2    100  \n",
              "3     80  \n",
              "4     40  \n",
              "5    300  "
            ],
            "text/html": [
              "\n",
              "  <div id=\"df-8ec5a3d2-b6c4-4905-b9d0-94b598ec5590\" class=\"colab-df-container\">\n",
              "    <div>\n",
              "<style scoped>\n",
              "    .dataframe tbody tr th:only-of-type {\n",
              "        vertical-align: middle;\n",
              "    }\n",
              "\n",
              "    .dataframe tbody tr th {\n",
              "        vertical-align: top;\n",
              "    }\n",
              "\n",
              "    .dataframe thead th {\n",
              "        text-align: right;\n",
              "    }\n",
              "</style>\n",
              "<table border=\"1\" class=\"dataframe\">\n",
              "  <thead>\n",
              "    <tr style=\"text-align: right;\">\n",
              "      <th></th>\n",
              "      <th>x</th>\n",
              "      <th>(0, 250)</th>\n",
              "      <th>(250, 500)</th>\n",
              "      <th>(500, 750)</th>\n",
              "      <th>(750, 1000)</th>\n",
              "      <th>(1000, 1250)</th>\n",
              "      <th>Итого</th>\n",
              "    </tr>\n",
              "  </thead>\n",
              "  <tbody>\n",
              "    <tr>\n",
              "      <th>0</th>\n",
              "      <td>(0, 10)</td>\n",
              "      <td>20</td>\n",
              "      <td>10</td>\n",
              "      <td>0</td>\n",
              "      <td>0</td>\n",
              "      <td>0</td>\n",
              "      <td>30</td>\n",
              "    </tr>\n",
              "    <tr>\n",
              "      <th>1</th>\n",
              "      <td>(10, 20)</td>\n",
              "      <td>10</td>\n",
              "      <td>22</td>\n",
              "      <td>18</td>\n",
              "      <td>0</td>\n",
              "      <td>0</td>\n",
              "      <td>50</td>\n",
              "    </tr>\n",
              "    <tr>\n",
              "      <th>2</th>\n",
              "      <td>(20, 30)</td>\n",
              "      <td>0</td>\n",
              "      <td>20</td>\n",
              "      <td>57</td>\n",
              "      <td>23</td>\n",
              "      <td>0</td>\n",
              "      <td>100</td>\n",
              "    </tr>\n",
              "    <tr>\n",
              "      <th>3</th>\n",
              "      <td>(30, 40)</td>\n",
              "      <td>0</td>\n",
              "      <td>10</td>\n",
              "      <td>21</td>\n",
              "      <td>30</td>\n",
              "      <td>19</td>\n",
              "      <td>80</td>\n",
              "    </tr>\n",
              "    <tr>\n",
              "      <th>4</th>\n",
              "      <td>(40, 50)</td>\n",
              "      <td>0</td>\n",
              "      <td>0</td>\n",
              "      <td>0</td>\n",
              "      <td>12</td>\n",
              "      <td>28</td>\n",
              "      <td>40</td>\n",
              "    </tr>\n",
              "    <tr>\n",
              "      <th>5</th>\n",
              "      <td>Итого</td>\n",
              "      <td>30</td>\n",
              "      <td>62</td>\n",
              "      <td>96</td>\n",
              "      <td>65</td>\n",
              "      <td>47</td>\n",
              "      <td>300</td>\n",
              "    </tr>\n",
              "  </tbody>\n",
              "</table>\n",
              "</div>\n",
              "    <div class=\"colab-df-buttons\">\n",
              "\n",
              "  <div class=\"colab-df-container\">\n",
              "    <button class=\"colab-df-convert\" onclick=\"convertToInteractive('df-8ec5a3d2-b6c4-4905-b9d0-94b598ec5590')\"\n",
              "            title=\"Convert this dataframe to an interactive table.\"\n",
              "            style=\"display:none;\">\n",
              "\n",
              "  <svg xmlns=\"http://www.w3.org/2000/svg\" height=\"24px\" viewBox=\"0 -960 960 960\">\n",
              "    <path d=\"M120-120v-720h720v720H120Zm60-500h600v-160H180v160Zm220 220h160v-160H400v160Zm0 220h160v-160H400v160ZM180-400h160v-160H180v160Zm440 0h160v-160H620v160ZM180-180h160v-160H180v160Zm440 0h160v-160H620v160Z\"/>\n",
              "  </svg>\n",
              "    </button>\n",
              "\n",
              "  <style>\n",
              "    .colab-df-container {\n",
              "      display:flex;\n",
              "      gap: 12px;\n",
              "    }\n",
              "\n",
              "    .colab-df-convert {\n",
              "      background-color: #E8F0FE;\n",
              "      border: none;\n",
              "      border-radius: 50%;\n",
              "      cursor: pointer;\n",
              "      display: none;\n",
              "      fill: #1967D2;\n",
              "      height: 32px;\n",
              "      padding: 0 0 0 0;\n",
              "      width: 32px;\n",
              "    }\n",
              "\n",
              "    .colab-df-convert:hover {\n",
              "      background-color: #E2EBFA;\n",
              "      box-shadow: 0px 1px 2px rgba(60, 64, 67, 0.3), 0px 1px 3px 1px rgba(60, 64, 67, 0.15);\n",
              "      fill: #174EA6;\n",
              "    }\n",
              "\n",
              "    .colab-df-buttons div {\n",
              "      margin-bottom: 4px;\n",
              "    }\n",
              "\n",
              "    [theme=dark] .colab-df-convert {\n",
              "      background-color: #3B4455;\n",
              "      fill: #D2E3FC;\n",
              "    }\n",
              "\n",
              "    [theme=dark] .colab-df-convert:hover {\n",
              "      background-color: #434B5C;\n",
              "      box-shadow: 0px 1px 3px 1px rgba(0, 0, 0, 0.15);\n",
              "      filter: drop-shadow(0px 1px 2px rgba(0, 0, 0, 0.3));\n",
              "      fill: #FFFFFF;\n",
              "    }\n",
              "  </style>\n",
              "\n",
              "    <script>\n",
              "      const buttonEl =\n",
              "        document.querySelector('#df-8ec5a3d2-b6c4-4905-b9d0-94b598ec5590 button.colab-df-convert');\n",
              "      buttonEl.style.display =\n",
              "        google.colab.kernel.accessAllowed ? 'block' : 'none';\n",
              "\n",
              "      async function convertToInteractive(key) {\n",
              "        const element = document.querySelector('#df-8ec5a3d2-b6c4-4905-b9d0-94b598ec5590');\n",
              "        const dataTable =\n",
              "          await google.colab.kernel.invokeFunction('convertToInteractive',\n",
              "                                                    [key], {});\n",
              "        if (!dataTable) return;\n",
              "\n",
              "        const docLinkHtml = 'Like what you see? Visit the ' +\n",
              "          '<a target=\"_blank\" href=https://colab.research.google.com/notebooks/data_table.ipynb>data table notebook</a>'\n",
              "          + ' to learn more about interactive tables.';\n",
              "        element.innerHTML = '';\n",
              "        dataTable['output_type'] = 'display_data';\n",
              "        await google.colab.output.renderOutput(dataTable, element);\n",
              "        const docLink = document.createElement('div');\n",
              "        docLink.innerHTML = docLinkHtml;\n",
              "        element.appendChild(docLink);\n",
              "      }\n",
              "    </script>\n",
              "  </div>\n",
              "\n",
              "\n",
              "<div id=\"df-aecfc7ee-3caa-44e9-8d10-caf653441c7a\">\n",
              "  <button class=\"colab-df-quickchart\" onclick=\"quickchart('df-aecfc7ee-3caa-44e9-8d10-caf653441c7a')\"\n",
              "            title=\"Suggest charts\"\n",
              "            style=\"display:none;\">\n",
              "\n",
              "<svg xmlns=\"http://www.w3.org/2000/svg\" height=\"24px\"viewBox=\"0 0 24 24\"\n",
              "     width=\"24px\">\n",
              "    <g>\n",
              "        <path d=\"M19 3H5c-1.1 0-2 .9-2 2v14c0 1.1.9 2 2 2h14c1.1 0 2-.9 2-2V5c0-1.1-.9-2-2-2zM9 17H7v-7h2v7zm4 0h-2V7h2v10zm4 0h-2v-4h2v4z\"/>\n",
              "    </g>\n",
              "</svg>\n",
              "  </button>\n",
              "\n",
              "<style>\n",
              "  .colab-df-quickchart {\n",
              "      --bg-color: #E8F0FE;\n",
              "      --fill-color: #1967D2;\n",
              "      --hover-bg-color: #E2EBFA;\n",
              "      --hover-fill-color: #174EA6;\n",
              "      --disabled-fill-color: #AAA;\n",
              "      --disabled-bg-color: #DDD;\n",
              "  }\n",
              "\n",
              "  [theme=dark] .colab-df-quickchart {\n",
              "      --bg-color: #3B4455;\n",
              "      --fill-color: #D2E3FC;\n",
              "      --hover-bg-color: #434B5C;\n",
              "      --hover-fill-color: #FFFFFF;\n",
              "      --disabled-bg-color: #3B4455;\n",
              "      --disabled-fill-color: #666;\n",
              "  }\n",
              "\n",
              "  .colab-df-quickchart {\n",
              "    background-color: var(--bg-color);\n",
              "    border: none;\n",
              "    border-radius: 50%;\n",
              "    cursor: pointer;\n",
              "    display: none;\n",
              "    fill: var(--fill-color);\n",
              "    height: 32px;\n",
              "    padding: 0;\n",
              "    width: 32px;\n",
              "  }\n",
              "\n",
              "  .colab-df-quickchart:hover {\n",
              "    background-color: var(--hover-bg-color);\n",
              "    box-shadow: 0 1px 2px rgba(60, 64, 67, 0.3), 0 1px 3px 1px rgba(60, 64, 67, 0.15);\n",
              "    fill: var(--button-hover-fill-color);\n",
              "  }\n",
              "\n",
              "  .colab-df-quickchart-complete:disabled,\n",
              "  .colab-df-quickchart-complete:disabled:hover {\n",
              "    background-color: var(--disabled-bg-color);\n",
              "    fill: var(--disabled-fill-color);\n",
              "    box-shadow: none;\n",
              "  }\n",
              "\n",
              "  .colab-df-spinner {\n",
              "    border: 2px solid var(--fill-color);\n",
              "    border-color: transparent;\n",
              "    border-bottom-color: var(--fill-color);\n",
              "    animation:\n",
              "      spin 1s steps(1) infinite;\n",
              "  }\n",
              "\n",
              "  @keyframes spin {\n",
              "    0% {\n",
              "      border-color: transparent;\n",
              "      border-bottom-color: var(--fill-color);\n",
              "      border-left-color: var(--fill-color);\n",
              "    }\n",
              "    20% {\n",
              "      border-color: transparent;\n",
              "      border-left-color: var(--fill-color);\n",
              "      border-top-color: var(--fill-color);\n",
              "    }\n",
              "    30% {\n",
              "      border-color: transparent;\n",
              "      border-left-color: var(--fill-color);\n",
              "      border-top-color: var(--fill-color);\n",
              "      border-right-color: var(--fill-color);\n",
              "    }\n",
              "    40% {\n",
              "      border-color: transparent;\n",
              "      border-right-color: var(--fill-color);\n",
              "      border-top-color: var(--fill-color);\n",
              "    }\n",
              "    60% {\n",
              "      border-color: transparent;\n",
              "      border-right-color: var(--fill-color);\n",
              "    }\n",
              "    80% {\n",
              "      border-color: transparent;\n",
              "      border-right-color: var(--fill-color);\n",
              "      border-bottom-color: var(--fill-color);\n",
              "    }\n",
              "    90% {\n",
              "      border-color: transparent;\n",
              "      border-bottom-color: var(--fill-color);\n",
              "    }\n",
              "  }\n",
              "</style>\n",
              "\n",
              "  <script>\n",
              "    async function quickchart(key) {\n",
              "      const quickchartButtonEl =\n",
              "        document.querySelector('#' + key + ' button');\n",
              "      quickchartButtonEl.disabled = true;  // To prevent multiple clicks.\n",
              "      quickchartButtonEl.classList.add('colab-df-spinner');\n",
              "      try {\n",
              "        const charts = await google.colab.kernel.invokeFunction(\n",
              "            'suggestCharts', [key], {});\n",
              "      } catch (error) {\n",
              "        console.error('Error during call to suggestCharts:', error);\n",
              "      }\n",
              "      quickchartButtonEl.classList.remove('colab-df-spinner');\n",
              "      quickchartButtonEl.classList.add('colab-df-quickchart-complete');\n",
              "    }\n",
              "    (() => {\n",
              "      let quickchartButtonEl =\n",
              "        document.querySelector('#df-aecfc7ee-3caa-44e9-8d10-caf653441c7a button');\n",
              "      quickchartButtonEl.style.display =\n",
              "        google.colab.kernel.accessAllowed ? 'block' : 'none';\n",
              "    })();\n",
              "  </script>\n",
              "</div>\n",
              "    </div>\n",
              "  </div>\n"
            ],
            "application/vnd.google.colaboratory.intrinsic+json": {
              "type": "dataframe",
              "variable_name": "data",
              "summary": "{\n  \"name\": \"data\",\n  \"rows\": 6,\n  \"fields\": [\n    {\n      \"column\": \"x\",\n      \"properties\": {\n        \"dtype\": \"string\",\n        \"num_unique_values\": 6,\n        \"samples\": [\n          [\n            0,\n            10\n          ],\n          [\n            10,\n            20\n          ],\n          \"\\u0418\\u0442\\u043e\\u0433\\u043e\"\n        ],\n        \"semantic_type\": \"\",\n        \"description\": \"\"\n      }\n    },\n    {\n      \"column\": [\n        0,\n        250\n      ],\n      \"properties\": {\n        \"dtype\": \"number\",\n        \"std\": 12,\n        \"min\": 0,\n        \"max\": 30,\n        \"num_unique_values\": 4,\n        \"samples\": [\n          10,\n          30,\n          20\n        ],\n        \"semantic_type\": \"\",\n        \"description\": \"\"\n      }\n    },\n    {\n      \"column\": [\n        250,\n        500\n      ],\n      \"properties\": {\n        \"dtype\": \"number\",\n        \"std\": 21,\n        \"min\": 0,\n        \"max\": 62,\n        \"num_unique_values\": 5,\n        \"samples\": [\n          22,\n          62,\n          20\n        ],\n        \"semantic_type\": \"\",\n        \"description\": \"\"\n      }\n    },\n    {\n      \"column\": [\n        500,\n        750\n      ],\n      \"properties\": {\n        \"dtype\": \"number\",\n        \"std\": 37,\n        \"min\": 0,\n        \"max\": 96,\n        \"num_unique_values\": 5,\n        \"samples\": [\n          18,\n          96,\n          57\n        ],\n        \"semantic_type\": \"\",\n        \"description\": \"\"\n      }\n    },\n    {\n      \"column\": [\n        750,\n        1000\n      ],\n      \"properties\": {\n        \"dtype\": \"number\",\n        \"std\": 24,\n        \"min\": 0,\n        \"max\": 65,\n        \"num_unique_values\": 5,\n        \"samples\": [\n          23,\n          65,\n          30\n        ],\n        \"semantic_type\": \"\",\n        \"description\": \"\"\n      }\n    },\n    {\n      \"column\": [\n        1000,\n        1250\n      ],\n      \"properties\": {\n        \"dtype\": \"number\",\n        \"std\": 19,\n        \"min\": 0,\n        \"max\": 47,\n        \"num_unique_values\": 4,\n        \"samples\": [\n          19,\n          47,\n          0\n        ],\n        \"semantic_type\": \"\",\n        \"description\": \"\"\n      }\n    },\n    {\n      \"column\": \"\\u0418\\u0442\\u043e\\u0433\\u043e\",\n      \"properties\": {\n        \"dtype\": \"number\",\n        \"std\": 101,\n        \"min\": 30,\n        \"max\": 300,\n        \"num_unique_values\": 6,\n        \"samples\": [\n          30,\n          50,\n          300\n        ],\n        \"semantic_type\": \"\",\n        \"description\": \"\"\n      }\n    }\n  ]\n}"
            }
          },
          "metadata": {},
          "execution_count": 3
        }
      ]
    },
    {
      "cell_type": "code",
      "source": [
        "y_mean=list()\n",
        "x_mean=list()\n",
        "for i in data.columns[1:-1]:\n",
        "  x_mean.append(np.mean(i))\n",
        "y_mean=[(j[0]+j[1])//2 for j in data[\"x\"][:-1]]\n",
        "x_mean=np.array(x_mean)\n",
        "y_mean=np.array(y_mean)"
      ],
      "metadata": {
        "id": "1iWwwsyMXQNd"
      },
      "execution_count": null,
      "outputs": []
    },
    {
      "cell_type": "markdown",
      "source": [
        "вычисление групповых средних y на x"
      ],
      "metadata": {
        "id": "WAXL2pE8e-n2"
      }
    },
    {
      "cell_type": "code",
      "source": [
        "x_on_y=list()\n",
        "for i, row in data.iterrows():\n",
        "  x_on_y.append(np.sum(np.array(row[1:-1])*x_mean/row[-1]))\n",
        "\n",
        "\n",
        "x_on_y.pop()\n",
        "\n"
      ],
      "metadata": {
        "colab": {
          "base_uri": "https://localhost:8080/"
        },
        "id": "kdcX4PW0dL-n",
        "outputId": "7254ade3-e05b-477a-c0a8-95953bc0c4a1"
      },
      "execution_count": null,
      "outputs": [
        {
          "output_type": "execute_result",
          "data": {
            "text/plain": [
              "655.8333333333334"
            ]
          },
          "metadata": {},
          "execution_count": 28
        }
      ]
    },
    {
      "cell_type": "code",
      "source": [
        "y_on_x=list()\n",
        "for values in data.drop(['x','Итого'],axis=1).columns:\n",
        "  t=np.array((data[values]))\n",
        "  y_on_x.append ( np.sum(t[:-1]*y_mean/t[len(t)-1]))"
      ],
      "metadata": {
        "id": "TcOTNYgWfbzf"
      },
      "execution_count": null,
      "outputs": []
    },
    {
      "cell_type": "markdown",
      "source": [
        "Эмпирическая линия регрессии y по x"
      ],
      "metadata": {
        "id": "uCW0wLCPjzoO"
      }
    },
    {
      "cell_type": "code",
      "source": [
        "plt.plot(x_mean,y_on_x)"
      ],
      "metadata": {
        "colab": {
          "base_uri": "https://localhost:8080/",
          "height": 447
        },
        "id": "G5sjlMBEhw6m",
        "outputId": "ba568af4-de74-46d5-ef7d-48708dbe213f"
      },
      "execution_count": null,
      "outputs": [
        {
          "output_type": "execute_result",
          "data": {
            "text/plain": [
              "[<matplotlib.lines.Line2D at 0x7c2792e60f10>]"
            ]
          },
          "metadata": {},
          "execution_count": 30
        },
        {
          "output_type": "display_data",
          "data": {
            "text/plain": [
              "<Figure size 640x480 with 1 Axes>"
            ],
            "image/png": "[encoded data removed]"
          },
          "metadata": {}
        }
      ]
    },
    {
      "cell_type": "markdown",
      "source": [
        "Эмпирическая линия регрессии x по y"
      ],
      "metadata": {
        "id": "pBEQweX2j6oF"
      }
    },
    {
      "cell_type": "code",
      "source": [
        "plt.plot(y_mean,x_on_y)"
      ],
      "metadata": {
        "colab": {
          "base_uri": "https://localhost:8080/",
          "height": 447
        },
        "id": "yvuxzM1Lh9xQ",
        "outputId": "9dec4535-6d82-4288-dc16-321b9a4ab1cf"
      },
      "execution_count": null,
      "outputs": [
        {
          "output_type": "execute_result",
          "data": {
            "text/plain": [
              "[<matplotlib.lines.Line2D at 0x7c2792e0dbd0>]"
            ]
          },
          "metadata": {},
          "execution_count": 31
        },
        {
          "output_type": "display_data",
          "data": {
            "text/plain": [
              "<Figure size 640x480 with 1 Axes>"
            ],
            "image/png": "[encoded data removed]"
          },
          "metadata": {}
        }
      ]
    },
    {
      "cell_type": "markdown",
      "source": [
        "Вычисление среднего у"
      ],
      "metadata": {
        "id": "5n7Dci0ylKoJ"
      }
    },
    {
      "cell_type": "code",
      "source": [
        "y_main_mean=np.sum(np.array(data.iloc[5][1:-1])*y_mean/np.sum(data.iloc[5][1:-1]))"
      ],
      "metadata": {
        "id": "kyskXp3Rj9jk"
      },
      "execution_count": null,
      "outputs": []
    },
    {
      "cell_type": "markdown",
      "source": [
        "Вычисление среднего квадратов у"
      ],
      "metadata": {
        "id": "pmuQ2vRmpWo7"
      }
    },
    {
      "cell_type": "code",
      "source": [
        "y_main_mean_quad=np.sum(np.array(data.iloc[5][1:-1])*y_mean**2/np.sum(data.iloc[5][1:-1]))"
      ],
      "metadata": {
        "id": "QOD8PUDsoua4"
      },
      "execution_count": null,
      "outputs": []
    },
    {
      "cell_type": "markdown",
      "source": [
        "Вычисление среднего х"
      ],
      "metadata": {
        "id": "SpCLtxhFpZx6"
      }
    },
    {
      "cell_type": "code",
      "source": [
        "x_main_mean=np.sum(np.array(data[\"Итого\"][:-1])*x_mean/data[\"Итого\"][len(data[\"Итого\"])-1])"
      ],
      "metadata": {
        "id": "FDKTVlH0m1d_"
      },
      "execution_count": null,
      "outputs": []
    },
    {
      "cell_type": "markdown",
      "source": [
        "Вычисление среднего квадратов х"
      ],
      "metadata": {
        "id": "0R8q93WRpcBz"
      }
    },
    {
      "cell_type": "code",
      "source": [
        "x_main_mean_quad=np.sum(np.array(data[\"Итого\"][:-1])*x_mean**2/data[\"Итого\"][len(data[\"Итого\"])-1])"
      ],
      "metadata": {
        "id": "m8JxEJVeouv1"
      },
      "execution_count": null,
      "outputs": []
    },
    {
      "cell_type": "markdown",
      "source": [
        "Вычисление среднего произведения"
      ],
      "metadata": {
        "id": "aqumwf3OrZvG"
      }
    },
    {
      "cell_type": "code",
      "source": [
        "sub_data=data.drop(columns=['x',\"Итого\"])\n",
        "sum=0\n",
        "for i in range(len(x_mean)):\n",
        "  for j in range(len(y_mean)):\n",
        "    sum+=sub_data.iloc[i,j]*x_mean[i]*y_mean[j]\n",
        "sum/=data['Итого'][len(data['Итого'])-1]"
      ],
      "metadata": {
        "id": "RALDoyj-pLGh"
      },
      "execution_count": null,
      "outputs": []
    },
    {
      "cell_type": "code",
      "source": [
        "byx=(sum-x_main_mean*y_main_mean)/(x_main_mean_quad-x_main_mean**2)\n",
        "bxy=(sum-x_main_mean*y_main_mean)/(y_main_mean_quad-y_main_mean**2)"
      ],
      "metadata": {
        "id": "ODZWdvsSrYKm"
      },
      "execution_count": null,
      "outputs": []
    },
    {
      "cell_type": "markdown",
      "source": [
        "теоритически рассчитанная линия регресии x по у"
      ],
      "metadata": {
        "id": "_L9n_zsbtOHA"
      }
    },
    {
      "cell_type": "code",
      "source": [
        "for_bxy=list()\n",
        "for i in range(len(y_mean)):\n",
        "  for_bxy.append(bxy*(y_mean[i]-y_main_mean)+x_main_mean)\n",
        "plt.plot(y_mean,for_bxy);\n",
        "plt.plot(y_mean,x_on_y)"
      ],
      "metadata": {
        "colab": {
          "base_uri": "https://localhost:8080/",
          "height": 447
        },
        "id": "0zRw3R_0sKt1",
        "outputId": "9e9c3a48-0600-4339-e04d-bdf430d11b17"
      },
      "execution_count": null,
      "outputs": [
        {
          "output_type": "execute_result",
          "data": {
            "text/plain": [
              "[<matplotlib.lines.Line2D at 0x7c279046c7f0>]"
            ]
          },
          "metadata": {},
          "execution_count": 82
        },
        {
          "output_type": "display_data",
          "data": {
            "text/plain": [
              "<Figure size 640x480 with 1 Axes>"
            ],
            "image/png": "[encoded data removed]"
          },
          "metadata": {}
        }
      ]
    },
    {
      "cell_type": "markdown",
      "source": [
        "Теоритически рассчитанная регрессия у по x"
      ],
      "metadata": {
        "id": "bH-jWEFMtcvw"
      }
    },
    {
      "cell_type": "code",
      "source": [
        "for_byx=list()\n",
        "for i in range(len(x_mean)):\n",
        "  for_byx.append(byx*(x_mean[i]-x_main_mean)+y_main_mean)\n",
        "plt.plot(x_mean,for_byx);\n",
        "plt.plot(x_mean,y_on_x);"
      ],
      "metadata": {
        "colab": {
          "base_uri": "https://localhost:8080/",
          "height": 430
        },
        "id": "qKeauutEtM9z",
        "outputId": "0b6cd89c-71f3-47ce-ca29-621ab6276892"
      },
      "execution_count": null,
      "outputs": [
        {
          "output_type": "display_data",
          "data": {
            "text/plain": [
              "<Figure size 640x480 with 1 Axes>"
            ],
            "image/png": "[encoded data removed]"
          },
          "metadata": {}
        }
      ]
    },
    {
      "cell_type": "markdown",
      "source": [
        "Рассчет выборочного коэффициента корреляции"
      ],
      "metadata": {
        "id": "-f7_FU7Buaau"
      }
    },
    {
      "cell_type": "code",
      "source": [
        "import math\n",
        "r=math.sqrt(bxy*byx)\n",
        "print(r)"
      ],
      "metadata": {
        "colab": {
          "base_uri": "https://localhost:8080/"
        },
        "id": "7zCsJtT8uEgl",
        "outputId": "f722c173-1318-4118-f852-f9a8c61a0a25"
      },
      "execution_count": null,
      "outputs": [
        {
          "output_type": "stream",
          "name": "stdout",
          "text": [
            "0.79324440571997\n"
          ]
        }
      ]
    },
    {
      "cell_type": "markdown",
      "source": [
        "Проверка гипотезы"
      ],
      "metadata": {
        "id": "QsSJCXSduq5o"
      }
    },
    {
      "cell_type": "code",
      "source": [
        "k=data['Итого'][len(data['Итого'])-1]-2\n",
        "t=r*math.sqrt(k)/math.sqrt(1-r**2)\n",
        "alfa=1-.05\n",
        "t_kr=scipy.stats.t.ppf(alfa,k)\n",
        "if math.fabs(t)>t_kr:\n",
        "  print(\"линейная завимость есть\")\n",
        "else:\n",
        "  print(\"линейной зависимости нет\")"
      ],
      "metadata": {
        "colab": {
          "base_uri": "https://localhost:8080/"
        },
        "id": "hQZd_3NQxA3Z",
        "outputId": "cbda5870-1153-4dc2-9ed5-1121d75ef5f5"
      },
      "execution_count": null,
      "outputs": [
        {
          "output_type": "stream",
          "name": "stdout",
          "text": [
            "линейная завимость есть\n"
          ]
        }
      ]
    }
  ]
}